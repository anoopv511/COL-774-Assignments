{
 "cells": [
  {
   "cell_type": "code",
   "execution_count": 1,
   "metadata": {},
   "outputs": [],
   "source": [
    "import numpy as np\n",
    "import itertools\n",
    "import matplotlib.pyplot as plt\n",
    "from scipy import stats"
   ]
  },
  {
   "cell_type": "code",
   "execution_count": 2,
   "metadata": {},
   "outputs": [],
   "source": [
    "x_train = np.loadtxt('./data/mnist/train.csv',delimiter=',',dtype=np.float64)\n",
    "y_train = x_train[:,-1].reshape(-1,1)\n",
    "x_train = np.delete(x_train,-1,1)\n",
    "train_mean, train_std = np.mean(x_train), np.std(x_train)\n",
    "x_train = (x_train - train_mean)/train_std\n",
    "x_train = np.concatenate((np.ones((x_train.shape[0],1)),x_train),axis=1)\n",
    "\n",
    "x_test = np.loadtxt('./data/mnist/test.csv',delimiter=',',dtype=np.float64)\n",
    "y_test = x_test[:,-1].reshape(-1,1)\n",
    "x_test = np.delete(x_test,-1,1)\n",
    "x_test = (x_test - train_mean)/train_std\n",
    "x_test = np.concatenate((np.ones((x_test.shape[0],1)),x_test),axis=1)"
   ]
  },
  {
   "cell_type": "code",
   "execution_count": 77,
   "metadata": {},
   "outputs": [],
   "source": [
    "class SVM():\n",
    "    def __init__(self,maxit,batchsize,lambda_,c=1):\n",
    "        self.maxit = maxit\n",
    "        self.batchsize = batchsize\n",
    "        self.lambda_ = lambda_\n",
    "        self.c = c\n",
    "    \n",
    "    def fit(self,x_train,y_train,printAfter=1,seed=0):\n",
    "        indices = np.arange(self.batchsize)\n",
    "        self.w = np.zeros((x_train.shape[1],1))\n",
    "        counter = 0\n",
    "        prev_cost = 0\n",
    "        np.random.seed(seed)\n",
    "        for it in range(self.maxit):\n",
    "            rand_idx = np.random.randint(0,x_train.shape[0],self.batchsize)\n",
    "            sub_x, sub_y = x_train[rand_idx], y_train[rand_idx]\n",
    "            loss = sub_y*np.dot(sub_x,self.w)\n",
    "            cost = self.lambda_*(self.w**2).sum()/2 + self.c*loss.sum()/float(self.batchsize)\n",
    "            if(it > 0 and it%printAfter == 0): print(\"{0} - {1}\".format(it,cost))\n",
    "            counter = counter + 1 if cost > prev_cost else 0\n",
    "            prev_cost = cost\n",
    "            idx = indices[loss.ravel() < 1]\n",
    "            eta = 1/float(self.lambda_*(it+1))\n",
    "            if(counter > 5):\n",
    "                print(\"{0} - {1}\".format(it,cost))\n",
    "                break\n",
    "            self.w = self.w*(1 - self.lambda_*eta) + (self.c*eta/float(self.batchsize))*(sub_x[idx]*sub_y[idx]).sum(axis=0).reshape(-1,1)\n",
    "            \n",
    "    def predict(self,x_test,conf=False):\n",
    "        return (np.dot(x_test,self.w) > 0).astype(np.int64) if not conf else np.dot(x_test,self.w)"
   ]
  },
  {
   "cell_type": "code",
   "execution_count": 117,
   "metadata": {},
   "outputs": [],
   "source": [
    "def onevsone(x_train,y_train,maxit,batchsize,lambda_,c=1,printAfter=1,seed=0):\n",
    "    classifiers = []\n",
    "    labels = np.unique(y_train)\n",
    "    class_split = list(itertools.combinations(np.arange(10),2))\n",
    "    indices = np.arange(x_train.shape[0])\n",
    "    for split in class_split:\n",
    "        idx_c1 = indices[(y_train == split[0]).ravel()]\n",
    "        idx_c2 = indices[(y_train == split[1]).ravel()]\n",
    "        idx = np.concatenate((idx_c1,idx_c2))\n",
    "        sub_x, sub_y = x_train[idx], y_train[idx]\n",
    "        sub_y = (sub_y == split[1]).astype(np.int64)\n",
    "        classifier = SVM(maxit,batchsize,lambda_,c)\n",
    "        classifier.fit(sub_x,sub_y,printAfter,seed)\n",
    "        classifiers.append((classifier,split[0],split[1]))\n",
    "    return classifiers\n",
    "\n",
    "def pred_onevsone(classifiers,x_test):\n",
    "    preds = np.zeros((x_test.shape[0],len(classifiers)))\n",
    "    ones = np.ones((x_test.shape[0],1))\n",
    "    for idx, c in enumerate(classifiers):\n",
    "        pred = c[0].predict(x_test,conf=False).reshape(-1,1)\n",
    "        preds[:,idx] = np.where(pred == 0,c[1]*ones,c[2]*ones).ravel()\n",
    "    final_pred = -stats.mode(-preds,axis=1)[0]\n",
    "    return final_pred\n",
    "\n",
    "def indv_acc_onevsone(classifiers,x_test,y_test):\n",
    "    for c in classifiers:\n",
    "        indices = np.arange(x_test.shape[0])\n",
    "        idx_c1 = indices[(y_test == c[1]).ravel()]\n",
    "        idx_c2 = indices[(y_test == c[2]).ravel()]\n",
    "        idx = np.concatenate((idx_c1,idx_c2))\n",
    "        sub_x, sub_y = x_test[idx], y_test[idx]\n",
    "        ones = np.ones((sub_x.shape[0],1))\n",
    "        pred = np.where(c[0].predict(sub_x).reshape(-1,1) == 0,c[1]*ones,c[2]*ones)\n",
    "        print(\"Accuracy for classifier b/w {0}/{1} = {2}\".format(c[1],c[2],(pred == sub_y).sum()/sub_y.shape[0]))"
   ]
  },
  {
   "cell_type": "code",
   "execution_count": 118,
   "metadata": {},
   "outputs": [],
   "source": [
    "svm_one = onevsone(x_train,y_train,1000,100,1,1,1000,1)\n",
    "pred_one = pred_onevsone(svm_one,x_test)"
   ]
  },
  {
   "cell_type": "code",
   "execution_count": 119,
   "metadata": {},
   "outputs": [
    {
     "name": "stdout",
     "output_type": "stream",
     "text": [
      "One-vs-One Accuracy = 0.1009\n",
      "Accuracy for classifier b/w 0/1 = 0.5385342789598109\n",
      "Accuracy for classifier b/w 0/2 = 0.5129224652087475\n",
      "Accuracy for classifier b/w 0/3 = 0.507537688442211\n",
      "Accuracy for classifier b/w 0/4 = 0.5005096839959225\n",
      "Accuracy for classifier b/w 0/5 = 0.47649572649572647\n",
      "Accuracy for classifier b/w 0/6 = 0.49432404540763675\n",
      "Accuracy for classifier b/w 0/7 = 0.5119521912350598\n",
      "Accuracy for classifier b/w 0/8 = 0.4984646878198567\n",
      "Accuracy for classifier b/w 0/9 = 0.5072900955253896\n",
      "Accuracy for classifier b/w 1/2 = 0.47623442547300415\n",
      "Accuracy for classifier b/w 1/3 = 0.47086247086247085\n",
      "Accuracy for classifier b/w 1/4 = 0.46386395843174305\n",
      "Accuracy for classifier b/w 1/5 = 0.44005920078934385\n",
      "Accuracy for classifier b/w 1/6 = 0.4577161968466316\n",
      "Accuracy for classifier b/w 1/7 = 0.47526583448913545\n",
      "Accuracy for classifier b/w 1/8 = 0.4618302513039355\n",
      "Accuracy for classifier b/w 1/9 = 0.470615671641791\n",
      "Accuracy for classifier b/w 2/3 = 0.49461312438785504\n",
      "Accuracy for classifier b/w 2/4 = 0.48758689175769615\n",
      "Accuracy for classifier b/w 2/5 = 0.46361746361746364\n",
      "Accuracy for classifier b/w 2/6 = 0.4814070351758794\n",
      "Accuracy for classifier b/w 2/7 = 0.49902912621359224\n",
      "Accuracy for classifier b/w 2/8 = 0.48554336989032904\n",
      "Accuracy for classifier b/w 2/9 = 0.4943655071043606\n",
      "Accuracy for classifier b/w 3/4 = 0.4929718875502008\n",
      "Accuracy for classifier b/w 3/5 = 0.46898002103049424\n",
      "Accuracy for classifier b/w 3/6 = 0.4867886178861789\n",
      "Accuracy for classifier b/w 3/7 = 0.5044160942100098\n",
      "Accuracy for classifier b/w 3/8 = 0.4909274193548387\n",
      "Accuracy for classifier b/w 3/9 = 0.49975235264982665\n",
      "Accuracy for classifier b/w 4/5 = 0.4759871931696905\n",
      "Accuracy for classifier b/w 4/6 = 0.49381443298969074\n",
      "Accuracy for classifier b/w 4/7 = 0.5114427860696518\n",
      "Accuracy for classifier b/w 4/8 = 0.49795501022494887\n",
      "Accuracy for classifier b/w 4/9 = 0.5067805123053741\n",
      "Accuracy for classifier b/w 5/6 = 0.5178378378378379\n",
      "Accuracy for classifier b/w 5/7 = 0.5354166666666667\n",
      "Accuracy for classifier b/w 5/8 = 0.5219721329046088\n",
      "Accuracy for classifier b/w 5/9 = 0.5307732772225144\n",
      "Accuracy for classifier b/w 6/7 = 0.5176233635448136\n",
      "Accuracy for classifier b/w 6/8 = 0.5041407867494824\n",
      "Accuracy for classifier b/w 6/9 = 0.5129639044229791\n",
      "Accuracy for classifier b/w 7/8 = 0.4865134865134865\n",
      "Accuracy for classifier b/w 7/9 = 0.4953362788414335\n",
      "Accuracy for classifier b/w 8/9 = 0.5088250126071608\n"
     ]
    }
   ],
   "source": [
    "accuracy_one = (pred_one == y_test).sum()/y_test.shape[0]\n",
    "print(\"One-vs-One Accuracy = {0}\".format(accuracy_one))\n",
    "indv_acc_onevsone(svm_one,x_test,y_test)"
   ]
  },
  {
   "cell_type": "code",
   "execution_count": 90,
   "metadata": {},
   "outputs": [],
   "source": [
    "def onevsall(x_train,y_train,maxit,batchsize,lambda_,c=1,printAfter=1,seed=0):\n",
    "    classifiers = []\n",
    "    labels = np.sort(np.unique(y_train))\n",
    "    for l in labels:\n",
    "        sub_x, sub_y = x_train, (y_train == l).astype(np.int64)\n",
    "        classifier = SVM(maxit,batchsize,lambda_,c)\n",
    "        classifier.fit(sub_x,sub_y,printAfter,seed)\n",
    "        classifiers.append((classifier,l))\n",
    "    return classifiers\n",
    "        \n",
    "def pred_onevsall(classifiers,x_test):\n",
    "    preds = np.zeros((x_test.shape[0],len(classifiers)))\n",
    "    for idx, c in enumerate(classifiers):\n",
    "        preds[:,idx] = c[0].predict(x_test,conf=True).ravel()\n",
    "    final_pred = preds.argmax(axis=1).reshape(-1,1)\n",
    "    return final_pred\n",
    "\n",
    "def indv_acc_onevsall(classifiers,x_test,y_test):\n",
    "    for c in classifiers:\n",
    "        ones = np.ones((x_test.shape[0],1))\n",
    "        pred = (c[0].predict(x_test,conf=True) > 0.5).astype(np.int64)\n",
    "        pred = np.where(pred == 1,c[1]*ones,-1*ones)\n",
    "        sub_y = np.where(y_test == c[1],c[1]*ones,-1*ones)\n",
    "        print(\"Accuracy for classifier b/w {0}/Rest = {1}\".format(c[1],(pred == sub_y).sum()/sub_y.shape[0]))"
   ]
  },
  {
   "cell_type": "code",
   "execution_count": 92,
   "metadata": {},
   "outputs": [
    {
     "name": "stdout",
     "output_type": "stream",
     "text": [
      "345 - 0.17890920224273874\n",
      "515 - 0.169568276320533\n",
      "943 - 0.19313234866362924\n"
     ]
    }
   ],
   "source": [
    "svm_all = onevsall(x_train,y_train,1000,100,1,1,1000,1)\n",
    "pred_all = pred_onevsall(svm_all,x_test)"
   ]
  },
  {
   "cell_type": "code",
   "execution_count": 93,
   "metadata": {},
   "outputs": [
    {
     "name": "stdout",
     "output_type": "stream",
     "text": [
      "One-vs-All Accuracy = 0.7774\n",
      "Accuracy for classifier b/w 0.0/Rest = 0.1978\n",
      "Accuracy for classifier b/w 1.0/Rest = 0.2986\n",
      "Accuracy for classifier b/w 2.0/Rest = 0.1069\n",
      "Accuracy for classifier b/w 3.0/Rest = 0.1096\n",
      "Accuracy for classifier b/w 4.0/Rest = 0.1251\n",
      "Accuracy for classifier b/w 5.0/Rest = 0.0895\n",
      "Accuracy for classifier b/w 6.0/Rest = 0.1118\n",
      "Accuracy for classifier b/w 7.0/Rest = 0.1204\n",
      "Accuracy for classifier b/w 8.0/Rest = 0.1066\n",
      "Accuracy for classifier b/w 9.0/Rest = 0.1166\n"
     ]
    }
   ],
   "source": [
    "accuracy_all = (pred_all == y_test).sum()/y_test.shape[0]\n",
    "print(\"One-vs-All Accuracy = {0}\".format(accuracy_all))\n",
    "indv_acc_onevsall(svm_all,x_test,y_test)"
   ]
  }
 ],
 "metadata": {
  "kernelspec": {
   "display_name": "Python 3",
   "language": "python",
   "name": "python3"
  },
  "language_info": {
   "codemirror_mode": {
    "name": "ipython",
    "version": 3
   },
   "file_extension": ".py",
   "mimetype": "text/x-python",
   "name": "python",
   "nbconvert_exporter": "python",
   "pygments_lexer": "ipython3",
   "version": "3.5.2"
  }
 },
 "nbformat": 4,
 "nbformat_minor": 2
}
